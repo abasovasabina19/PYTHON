{
 "cells": [
  {
   "cell_type": "markdown",
   "id": "2305f3ff-919a-4a7a-821d-61febe92d1f5",
   "metadata": {},
   "source": [
    "Tapşırıq 1: Qiymətləndirmə Hesabatı"
   ]
  },
  {
   "cell_type": "markdown",
   "id": "54505070-0594-483f-b5f9-f4a38db098ca",
   "metadata": {},
   "source": [
    "Bir tələbənin beş müxtəlif fəndən aldığı qiymətlər belədir: 85, 90, 78, 92, 88. Bu qiymətləri istifadə edərək tələbənin ümumi ortalamasını hesablayın. Həmçinin, tələbənin ən yüksək və ənaşağı qiymətini tapın və ortalamadan nə qədər fərqləndiklərini hesablayın."
   ]
  },
  {
   "cell_type": "code",
   "execution_count": 19,
   "id": "d7b253aa-b20e-456b-b41e-bce7b9681957",
   "metadata": {},
   "outputs": [
    {
     "name": "stdout",
     "output_type": "stream",
     "text": [
      "umumi ortalama: 86.6\n",
      "max qiymet:92\n",
      "min qiymet:78\n",
      "max qiymetle ortalama arasindaki ferq:5.4\n",
      "min qiymetle ortalama arasindaki ferq:8.6\n"
     ]
    }
   ],
   "source": [
    "qiymetler=[85,90,78,92,88]\n",
    "avg=sum(qiymetler)/len(qiymetler)\n",
    "en_yuxari_qiymet=max(qiymetler)\n",
    "en_asagi_qiymet=min(qiymetler)\n",
    "yuxari_ferq=en_yuxari_qiymet-avg\n",
    "asagi_ferq= avg-en_asagi_qiymet\n",
    "print(f\"umumi ortalama: {avg}\")\n",
    "print(f\"max qiymet:{en_yuxari_qiymet}\")\n",
    "print(f\"min qiymet:{en_asagi_qiymet}\")\n",
    "print(f\"max qiymetle ortalama arasindaki ferq:{round(yuxari_ferq,2)}\")\n",
    "print(f\"min qiymetle ortalama arasindaki ferq:{round(asagi_ferq,2)}\")"
   ]
  },
  {
   "cell_type": "markdown",
   "id": "18f98b52-03be-4213-a1a1-75a214e35130",
   "metadata": {},
   "source": [
    "Tapşırıq 2: İdman Klubu Üzv Haqqı"
   ]
  },
  {
   "cell_type": "markdown",
   "id": "1d4f4c3a-be8e-4b06-8279-222aa84f3c91",
   "metadata": {},
   "source": [
    "Bir idman klubu üzvlərdən illik haqq olaraq 250 AZN alır. Klubun illik gəliri 30 üzv üçün nə qədərdir? Eyni zamanda, 20% güzəşt tətbiq edilərsə, yeni üzv haqqını və gəliri hesablayın."
   ]
  },
  {
   "cell_type": "code",
   "execution_count": 29,
   "id": "19780095-e293-429b-8deb-b5a4592c0c90",
   "metadata": {},
   "outputs": [
    {
     "name": "stdout",
     "output_type": "stream",
     "text": [
      "illik gelir:7500\n",
      "uzv haqqi: 200.0\n",
      "yeni illik gelir: 6000.0\n"
     ]
    }
   ],
   "source": [
    "illik_haqq=250\n",
    "illik_gelir=30*illik_haqq\n",
    "guzest=illik_haqq*0.8\n",
    "yeni_illik_gelir=30*guzest\n",
    "print(f\"illik gelir:{illik_gelir}\")\n",
    "print(f\"uzv haqqi: {guzest}\")\n",
    "print(f\"yeni illik gelir: {yeni_illik_gelir}\")"
   ]
  },
  {
   "cell_type": "markdown",
   "id": "4e8ae169-5375-4cbd-a664-ca60938853d4",
   "metadata": {},
   "source": [
    "Tapşırıq 3: İllik İnflyasiya Hesablaması"
   ]
  },
  {
   "cell_type": "markdown",
   "id": "6acf61b0-bbb9-4bbb-8158-5424ebe7901b",
   "metadata": {},
   "source": [
    "Verilən məlumatlara əsasən, bir şəhərdə ötən il inflyasiya səviyyəsi 4.5% olmuşdur. Əgər ilin əvvəlində bir məhsulun qiyməti 200 AZN idisə, ilin sonunda həmin məhsulun qiymətinin nə qədər olacağını hesablayın."
   ]
  },
  {
   "cell_type": "code",
   "execution_count": 25,
   "id": "231b7b7c-26bb-4d30-a8c2-bdcb73168ae3",
   "metadata": {},
   "outputs": [
    {
     "data": {
      "text/plain": [
       "209.0"
      ]
     },
     "execution_count": 25,
     "metadata": {},
     "output_type": "execute_result"
    }
   ],
   "source": [
    "qiymet=200\n",
    "inflyasiya=4.5\n",
    "yeni_qiymet=qiymet*(1+inflyasiya/100)\n",
    "yeni_qiymet"
   ]
  },
  {
   "cell_type": "markdown",
   "id": "e96225bd-7af8-4c29-bcd8-002cdc3dc205",
   "metadata": {},
   "source": [
    "Tapşırıq 4: Tətil Günü"
   ]
  },
  {
   "cell_type": "markdown",
   "id": "2fc46f72-b73f-4381-aaa6-11da3ac2519d",
   "metadata": {},
   "source": [
    "sentence = \"Tomorrow is a holiday\" cümləsi verilmişdir. Bu cümlədən istifadə edərək, sözlərin hamısını böyük hərflərə çevirin və hər bir sözü aralarında - işarəsi olmaqla birləşdirin."
   ]
  },
  {
   "cell_type": "code",
   "execution_count": 54,
   "id": "53476436-9a38-416f-8319-5b830ed03f69",
   "metadata": {},
   "outputs": [
    {
     "name": "stdout",
     "output_type": "stream",
     "text": [
      "TOMORROW-IS-A-HOLIDAY\n"
     ]
    }
   ],
   "source": [
    "sentence = 'Tomorrow is a holiday'\n",
    "print('-'.join(sentence.upper().split(' ')))\n"
   ]
  },
  {
   "cell_type": "markdown",
   "id": "1c7075f6-6a3b-4a7f-990c-a5c07a687e2b",
   "metadata": {},
   "source": [
    "Tapşırıq 5: Məktəb Cədvəli"
   ]
  },
  {
   "cell_type": "markdown",
   "id": "dbaae6c4-d47b-41c2-a310-f95ed4ce6f78",
   "metadata": {},
   "source": [
    "text = \"Math, English, Biology, Chemistry, History\" siyahısından istifadə edərək, hər fənnin ilk üç hərfini götürün və yeni bir string yaradın. Məsələn, nəticə belə olmalıdır: \"MatEngBioCheHis\"."
   ]
  },
  {
   "cell_type": "code",
   "execution_count": 78,
   "id": "43384e83-56b9-4d6c-b9d1-ec47f7cd3c0f",
   "metadata": {},
   "outputs": [
    {
     "data": {
      "text/plain": [
       "'MatEngBioCheHis'"
      ]
     },
     "execution_count": 78,
     "metadata": {},
     "output_type": "execute_result"
    }
   ],
   "source": [
    "text = 'Math, English, Biology, Chemistry, History'\n",
    "new_text=text[:3]+text[6:9]+text[15:18]+text[-18:-15]+text[-7:-4]\n",
    "new_text\n"
   ]
  },
  {
   "cell_type": "markdown",
   "id": "22fe1eb9-56f6-438f-9166-b30ecb8c2abd",
   "metadata": {},
   "source": [
    "Tapşırıq 6: Şifrə Dəyişdirmə"
   ]
  },
  {
   "cell_type": "markdown",
   "id": "bb62cd06-e675-43da-8cdb-10898260a0dd",
   "metadata": {},
   "source": [
    "password = \"abc123XYZ\" şifrəsi verilmişdir. Bu şifrədən istifadə edərək, bütün rəqəmləri # işarəsi ilə əvəz edin və sonra bütün hərfləri böyük hərflərə çevirin."
   ]
  },
  {
   "cell_type": "code",
   "execution_count": 95,
   "id": "85ee9d25-73bb-451d-a5b3-a9f919a3733d",
   "metadata": {},
   "outputs": [
    {
     "name": "stdout",
     "output_type": "stream",
     "text": [
      "ABC###XYZ\n"
     ]
    }
   ],
   "source": [
    "password = \"abc123XYZ\"\n",
    "print(password.replace('123','###').upper())"
   ]
  },
  {
   "cell_type": "markdown",
   "id": "33424482-0905-451a-b835-a82a75efaa91",
   "metadata": {},
   "source": [
    "Tapşırıq 7: Qarışıq Tədris Materialı"
   ]
  },
  {
   "cell_type": "markdown",
   "id": "10d1fecb-331d-4421-b664-b33c1a6ae228",
   "metadata": {},
   "source": [
    "material1 = \"Python\" və material2 = \"is fun!\" verilmişdir. Bu iki stringi birləşdirərək \"Python is fun!\" nəticəsini əldə edin və hər bir sözün ilk hərfini böyük yazaraq çap edin."
   ]
  },
  {
   "cell_type": "code",
   "execution_count": 111,
   "id": "d74bcf13-f409-47e2-a14e-3b9c2a270c5f",
   "metadata": {},
   "outputs": [
    {
     "name": "stdout",
     "output_type": "stream",
     "text": [
      "Python Is Fun!\n"
     ]
    }
   ],
   "source": [
    "material1 = \"Python\"\n",
    "material2 = \"is fun!\"\n",
    "\n",
    "print(material1 +' '+ material2[0].upper()+material2[1:2]+ ' ' +material2[-4].upper()+ material2[-3:])"
   ]
  },
  {
   "cell_type": "code",
   "execution_count": 121,
   "id": "c447d952-fb19-456c-99db-b11a59047d60",
   "metadata": {},
   "outputs": [
    {
     "name": "stdout",
     "output_type": "stream",
     "text": [
      "Python Is Fun!\n"
     ]
    }
   ],
   "source": [
    "material1 = \"Python\"\n",
    "material2 = \"is fun!\"\n",
    "print(material1+' ' + material2.replace('i','I').replace('f','F'))"
   ]
  },
  {
   "cell_type": "code",
   "execution_count": null,
   "id": "214cf23b-30cf-483d-8be9-f76bc70b8c6b",
   "metadata": {},
   "outputs": [],
   "source": [
    "Tapşırıq 8: Valyuta Çevirmə"
   ]
  },
  {
   "cell_type": "markdown",
   "id": "2efb1638-570f-4c04-9f02-2a63dbda56c2",
   "metadata": {},
   "source": [
    "amount = 1500 manat və rate = 1.7 verilmişdir. Bu məlumatlardan istifadə edərək, məbləği ABŞ dollarına çevirin və nəticəni belə çap edin: \"1500 AZN equals 882.35 USD\"."
   ]
  },
  {
   "cell_type": "code",
   "execution_count": 125,
   "id": "3499ec97-569b-4d0f-ad0c-b164b9394496",
   "metadata": {},
   "outputs": [
    {
     "name": "stdout",
     "output_type": "stream",
     "text": [
      "1500 AZN equals 882.35 USD\n"
     ]
    }
   ],
   "source": [
    "amount=1500\n",
    "rate=1.7\n",
    "usd_amount = amount / rate\n",
    "print(f\"{amount} AZN equals {round(usd_amount,2)} USD\")"
   ]
  },
  {
   "cell_type": "markdown",
   "id": "cb32c247-34f6-4313-99c6-bfd9f7d50f4f",
   "metadata": {},
   "source": [
    "Tapşırıq 9: Məhsul Haqqında Məlumat"
   ]
  },
  {
   "cell_type": "markdown",
   "id": "60fd474f-dc5f-4fb4-8151-9364464f087c",
   "metadata": {},
   "source": [
    "Verilmiş bir məhsulun adı product = \"laptop\", qiyməti price = 1200 manat və endirim discount = 15%-dir. Bu məlumatları istifadə edərək, məhsulun endirimli qiymətini hesablayın və \"The discounted price of the laptop is 1020 AZN\" formatında çap edin."
   ]
  },
  {
   "cell_type": "code",
   "execution_count": 131,
   "id": "fb5d0cc8-966d-40c8-8aef-92355b5fed1e",
   "metadata": {},
   "outputs": [
    {
     "name": "stdout",
     "output_type": "stream",
     "text": [
      "The discounted price of the laptop is 1020\n"
     ]
    }
   ],
   "source": [
    " product = \"laptop\"\n",
    " price = 1200\n",
    " discount = 15\n",
    " print(f\"The discounted price of the laptop is {int(price*0.85)}\")"
   ]
  },
  {
   "cell_type": "code",
   "execution_count": null,
   "id": "11c3eb88-8a97-4f41-851e-4b4e48d20554",
   "metadata": {},
   "outputs": [],
   "source": []
  }
 ],
 "metadata": {
  "kernelspec": {
   "display_name": "Python 3 (ipykernel)",
   "language": "python",
   "name": "python3"
  },
  "language_info": {
   "codemirror_mode": {
    "name": "ipython",
    "version": 3
   },
   "file_extension": ".py",
   "mimetype": "text/x-python",
   "name": "python",
   "nbconvert_exporter": "python",
   "pygments_lexer": "ipython3",
   "version": "3.12.4"
  }
 },
 "nbformat": 4,
 "nbformat_minor": 5
}
