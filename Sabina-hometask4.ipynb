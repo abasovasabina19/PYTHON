{
 "cells": [
  {
   "cell_type": "markdown",
   "id": "b9a984c0-1def-4ea5-886f-63cf43f0eeb0",
   "metadata": {},
   "source": [
    "# Tapşırıq 1: Temperatur çevirmə\n"
   ]
  },
  {
   "cell_type": "markdown",
   "id": "3993f8e4-53cb-4362-a402-c6df0c5e3edf",
   "metadata": {},
   "source": [
    "Bir şəhərdə hava proqnozunda temperaturu həm Selsi, həm də Fahrenheit dərəcələri ilə göstərmək lazımdır. Bunun üçün funksiya yazın:\r\n",
    "\r\n",
    "İstifadəçi Selsi ilə temperaturu daxil edir və funksiyanız onu Fahrenheitə çevirir. Sonra Fahrenheit temperaturunu Selsiyə çevirən başqa bir funksiya yazın.\r\n",
    "\r\n",
    "Formulalar:\r\n",
    "\r\n",
    "Fahrenheit = (Selsi * 9/5) + 32\r\n",
    "\r\n",
    "Selsi = (Fahrenheit - 32) * 5/9"
   ]
  },
  {
   "cell_type": "code",
   "execution_count": 28,
   "id": "b0975606-67eb-4123-bd58-0c13bd9356f7",
   "metadata": {},
   "outputs": [],
   "source": [
    "def temperatur(Selsi):\n",
    "  Fahrenheit = (Selsi * 9/5) + 32\n",
    "  return Fahrenheit\n",
    "\n"
   ]
  },
  {
   "cell_type": "code",
   "execution_count": 30,
   "id": "9c30f73b-1a9d-471a-af4e-a966938778a4",
   "metadata": {},
   "outputs": [
    {
     "data": {
      "text/plain": [
       "32.0"
      ]
     },
     "execution_count": 30,
     "metadata": {},
     "output_type": "execute_result"
    }
   ],
   "source": [
    "temperatur(0)"
   ]
  },
  {
   "cell_type": "code",
   "execution_count": 32,
   "id": "add49b15-e9bc-4faa-8065-0502d41a4826",
   "metadata": {},
   "outputs": [],
   "source": [
    "def temperatur1(Fahrenheit):\n",
    " Selsi = (Fahrenheit - 32) * 5/9\n",
    " return Selsi"
   ]
  },
  {
   "cell_type": "markdown",
   "id": "4575e480-53b8-4946-aa36-45529592c3f0",
   "metadata": {},
   "source": [
    "temperatur1(32)"
   ]
  },
  {
   "cell_type": "markdown",
   "id": "217e74d1-a6f2-440c-87ed-6fb20dcd2a0d",
   "metadata": {},
   "source": [
    "# Tapşırıq 2: Müştəri endirimi\n"
   ]
  },
  {
   "cell_type": "markdown",
   "id": "4e29b4ab-0bcf-4f9f-9831-7c182c89f86e",
   "metadata": {},
   "source": [
    "Bir mağazada müştərilər müəyyən məbləğdə alış-veriş edəndə endirimlərdən istifadə edirlər. Müxtəlif hallara görə endirim tətbiq edən funksiya yazın.\r\n",
    "\r\n",
    "Əgər alış-veriş məbləği 100 manatdan çoxdursa, 10% endirim tətbiq olunacaq. Əgər məbləğ 200 manatdan çoxdursa, 20% endirim olacaq. Funksiyanız müştərinin ödəməli olduğu yekun məbləği hesablasın."
   ]
  },
  {
   "cell_type": "code",
   "execution_count": 124,
   "id": "162e4892-a3db-487f-beed-05834cb26b91",
   "metadata": {},
   "outputs": [],
   "source": [
    "def discount(price):\n",
    "   if price>200:\n",
    "    new_price=price*0.8\n",
    "   elif price>100:\n",
    "    new_price=price*0.9\n",
    "   else:\n",
    "    new_price=price\n",
    "   return new_price"
   ]
  },
  {
   "cell_type": "code",
   "execution_count": 128,
   "id": "12f1b9b0-8795-42d7-a8db-b5cf3e901662",
   "metadata": {},
   "outputs": [
    {
     "data": {
      "text/plain": [
       "180.0"
      ]
     },
     "execution_count": 128,
     "metadata": {},
     "output_type": "execute_result"
    }
   ],
   "source": [
    "discount(200)"
   ]
  },
  {
   "cell_type": "markdown",
   "id": "028cc20d-a591-4142-9cb9-ab9b486f95f4",
   "metadata": {},
   "source": [
    "# Tapşırıq 3: Avtomobil yanacaq sərfiyyatı"
   ]
  },
  {
   "cell_type": "markdown",
   "id": "a71e0c4f-1a6f-4373-aff0-eb5833470e0b",
   "metadata": {},
   "source": [
    "Avtomobilinizin nə qədər yanacaq sərf etdiyini hesablamaq üçün funksiya yazın.\r\n",
    "\r\n",
    "Funksiya iki arqument qəbul edəcək: gedilən məsafə (kilometrlə) və sərf olunan yanacaq (litrlə). Funksiya hər 100 km üçün neçə litr yanacaq sərf edildiyini geri qaytarsın.\r\n",
    "\r\n",
    "Yanacaq sərfiyyatını belə hesablaya bilərsiniz:\r\n",
    "\r\n",
    "(Sərf olunan yanacaq / Gedilən məsafə) * 100"
   ]
  },
  {
   "cell_type": "code",
   "execution_count": 135,
   "id": "fe16fe7d-b43c-49d9-8bb0-51809e024381",
   "metadata": {},
   "outputs": [],
   "source": [
    "def car(mesafe,yanacaq):\n",
    "    serf=(yanacaq / mesafe) * 100\n",
    "    return(serf)"
   ]
  },
  {
   "cell_type": "code",
   "execution_count": 137,
   "id": "ebc7101e-0e47-4923-88d7-a5f7e4052bd5",
   "metadata": {},
   "outputs": [
    {
     "data": {
      "text/plain": [
       "20.0"
      ]
     },
     "execution_count": 137,
     "metadata": {},
     "output_type": "execute_result"
    }
   ],
   "source": [
    "car(300,60)\n"
   ]
  },
  {
   "cell_type": "markdown",
   "id": "c386c564-5f2a-46eb-a5d2-0a3a0285a54b",
   "metadata": {},
   "source": [
    "# Tapşırıq 4: Bank faiz hesablanması"
   ]
  },
  {
   "cell_type": "markdown",
   "id": "4da30004-3ab7-4f6f-a780-2f4c7d973a9e",
   "metadata": {},
   "source": [
    "Bankda vəsaitin illik faizi ilə necə artacağını göstərən funksiya yazın.\r\n",
    "\r\n",
    "Funksiya ilkin məbləğ, illik faiz dərəcəsi və illərin sayını arqument kimi qəbul etsin. Hər ilin sonunda məbləği hesablayaraq qaytarsın. Faiz təkcə ilin sonunda ilkin məbləğə əlavə olunur.\r\n",
    "\r\n",
    "Formul: Yekun məbləğ = İlkin məbləğ * (1 + faiz / 100) ^ illər"
   ]
  },
  {
   "cell_type": "code",
   "execution_count": 166,
   "id": "eba732fa-ee28-4da5-9440-bede8ce4d2e7",
   "metadata": {},
   "outputs": [],
   "source": [
    "def bank(mebleg,faiz,iller):\n",
    "  Yekun_mebleg=mebleg*(1 + faiz / 100)**iller\n",
    "  return Yekun_mebleg\n",
    "    "
   ]
  },
  {
   "cell_type": "code",
   "execution_count": 172,
   "id": "8cfe2433-cf67-4d8d-b320-9bde570459db",
   "metadata": {},
   "outputs": [
    {
     "data": {
      "text/plain": [
       "840.0"
      ]
     },
     "execution_count": 172,
     "metadata": {},
     "output_type": "execute_result"
    }
   ],
   "source": [
    "bank(800,5,1)\n"
   ]
  },
  {
   "cell_type": "markdown",
   "id": "4edd6967-1fcd-40cc-a73b-95969d220294",
   "metadata": {},
   "source": [
    "# Tapşırıq 5: Statistik göstəricilərin hesablanması"
   ]
  },
  {
   "cell_type": "markdown",
   "id": "989f994f-2258-4a34-8792-3869cf223ef3",
   "metadata": {},
   "source": [
    "Tapşırıq: Bir sinifdə tələbələrin balları verilib. Balların orta qiymətini, maksimum və minimum balı tapan funksiyalar yazın.\r\n",
    "\r\n",
    "Funksiya ballar siyahısını arqument kimi qəbul etsin və orta qiyməti qaytarsın. Ayrı-ayrı funksiyalar ən yüksək və ən aşağı balları qaytarsın."
   ]
  },
  {
   "cell_type": "code",
   "execution_count": 185,
   "id": "47f1ce8a-f433-487b-b881-a06a9a301f9b",
   "metadata": {},
   "outputs": [],
   "source": [
    "def telebe(*siyahi):\n",
    "    max_bal=max(siyahi)\n",
    "    min_bal=min(siyahi)\n",
    "    avg=sum(siyahi)/len(siyahi)\n",
    "    return(f\" max:{max_bal}, min:{min_bal}, avg:{ avg}\")"
   ]
  },
  {
   "cell_type": "code",
   "execution_count": 187,
   "id": "8b1c315e-5693-40bc-a54e-f48f9d7d3e1b",
   "metadata": {},
   "outputs": [
    {
     "data": {
      "text/plain": [
       "' max:100, min:56, avg:84.0'"
      ]
     },
     "execution_count": 187,
     "metadata": {},
     "output_type": "execute_result"
    }
   ],
   "source": [
    "telebe(56,87,98,100,76,87)"
   ]
  },
  {
   "cell_type": "markdown",
   "id": "d8e816d8-bcdb-43fb-ba1b-d5ef9795ec1c",
   "metadata": {},
   "source": [
    "# Tapşırıq 6: Bilet qiymətinin hesablanması"
   ]
  },
  {
   "cell_type": "markdown",
   "id": "c7de2e9e-9a67-4fef-83dc-20ccd624799c",
   "metadata": {},
   "source": [
    "Bir kinoteatrda bilet qiymətini hesablayan funksiya yazın.\r\n",
    "\r\n",
    "Funksiya tamaşaçının yaşını arqument kimi qəbul etsin və aşağıdakı qaydada qiymət müəyyən etsin:\r\n",
    "\r\n",
    "Uşaqlar (0-12 yaş) üçün: 5 AZN\r\n",
    "\r\n",
    "Gənclər (13-18 yaş) üçün: 8 AZN\r\n",
    "\r\n",
    "Böyüklər (19-60 yaş) üçün: 10 AZN\r\n",
    "\r\n",
    "Yaşlılar (60+ yaş) üçün: 7 AZN"
   ]
  },
  {
   "cell_type": "code",
   "execution_count": 192,
   "id": "10ae5cd4-6ed3-4223-bab2-4b790beefcfe",
   "metadata": {},
   "outputs": [],
   "source": [
    "def bilet(age):\n",
    " if age>60:\n",
    "    price=7\n",
    " elif age>19:\n",
    "   price=10\n",
    " elif age>13:\n",
    "   price=8\n",
    " else:\n",
    "   price=5\n",
    " return(price)\n",
    "\n",
    "    "
   ]
  },
  {
   "cell_type": "code",
   "execution_count": 200,
   "id": "e3a2a3c9-0f78-4e55-ab7c-2b8aa17fab43",
   "metadata": {},
   "outputs": [
    {
     "data": {
      "text/plain": [
       "5"
      ]
     },
     "execution_count": 200,
     "metadata": {},
     "output_type": "execute_result"
    }
   ],
   "source": [
    "bilet(12)"
   ]
  },
  {
   "cell_type": "code",
   "execution_count": null,
   "id": "ef116833-5ee3-4e4c-99b7-a2cb83c761c6",
   "metadata": {},
   "outputs": [],
   "source": []
  }
 ],
 "metadata": {
  "kernelspec": {
   "display_name": "Python 3 (ipykernel)",
   "language": "python",
   "name": "python3"
  },
  "language_info": {
   "codemirror_mode": {
    "name": "ipython",
    "version": 3
   },
   "file_extension": ".py",
   "mimetype": "text/x-python",
   "name": "python",
   "nbconvert_exporter": "python",
   "pygments_lexer": "ipython3",
   "version": "3.12.4"
  }
 },
 "nbformat": 4,
 "nbformat_minor": 5
}
