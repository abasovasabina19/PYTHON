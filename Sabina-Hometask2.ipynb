{
 "cells": [
  {
   "cell_type": "markdown",
   "id": "6eb2179d-69ad-444c-9191-df3148175cc9",
   "metadata": {},
   "source": [
    "# Tapşırıq 1: Qiymətləndirmə Sistemi"
   ]
  },
  {
   "cell_type": "markdown",
   "id": "847ed6ec-7b6a-45ea-80c4-1019d70324f0",
   "metadata": {},
   "source": [
    "Verilmiş bir tələbənin nəticələri grades = [88, 72, 90, 68, 85] şəklində siyahı olaraq verilmişdir. Əgər ortalama qiymət 90-dan yuxarıdırsa, \"A\" dərəcəsi verin, 80-90 arasıdırsa, \"B\", 70-80 arasıdırsa, \"C\", 60-70 arasıdırsa, \"D\", əks halda, \"F\" dərəcəsi verin. Ortalama qiyməti də çap edin."
   ]
  },
  {
   "cell_type": "code",
   "execution_count": 31,
   "id": "96737d19-f454-42a2-88c3-62d490fb2a88",
   "metadata": {},
   "outputs": [
    {
     "name": "stdout",
     "output_type": "stream",
     "text": [
      "B\n",
      "80.6\n"
     ]
    }
   ],
   "source": [
    "grades = [88, 72, 90, 68, 85] \n",
    "if sum(grades)/len(grades)>90:\n",
    "   print(\"A\" )\n",
    "elif sum(grades)/len(grades)>80 and sum(grades)/len(grades)<=90:\n",
    "  print(\"B\")\n",
    "elif sum(grades)/len(grades)>70 and sum(grades)/len(grades)<=80:\n",
    "  print(\"C\")\n",
    "elif sum(grades)/len(grades)>60 and sum(grades)/len(grades)<=70:\n",
    "  print(\"D\")\n",
    "else:\n",
    "  print(\"F\")\n",
    "    \n",
    "print(sum(grades)/len(grades))"
   ]
  },
  {
   "cell_type": "code",
   "execution_count": 18,
   "id": "3e4f5ccb-7134-4194-a265-76fd9d6b23da",
   "metadata": {},
   "outputs": [
    {
     "name": "stdout",
     "output_type": "stream",
     "text": [
      "B\n"
     ]
    },
    {
     "data": {
      "text/plain": [
       "80.6"
      ]
     },
     "execution_count": 18,
     "metadata": {},
     "output_type": "execute_result"
    }
   ],
   "source": [
    "grades = [88, 72, 90, 68, 85] \n",
    "avg = sum(grades) / len(grades)\n",
    "\n",
    "if avg > 90:\n",
    "    print(\"A\")\n",
    "elif 80 < avg<= 90:\n",
    "    print(\"B\")\n",
    "elif 70 < avg <= 80:\n",
    "    print(\"C\")\n",
    "elif 60 < avg <= 70:\n",
    "    print(\"D\")\n",
    "else:\n",
    "    print(\"F\")\n",
    "\n",
    "avg\n"
   ]
  },
  {
   "cell_type": "markdown",
   "id": "d368f116-a067-473d-83cc-b583e38d0946",
   "metadata": {},
   "source": [
    "# Tapşırıq 2: Restoran Sifarişi"
   ]
  },
  {
   "cell_type": "markdown",
   "id": "226b4062-1647-4e1c-bbd2-e0c32d6b69cd",
   "metadata": {},
   "source": [
    "menu = (\"Pizza\", \"Burger\", \"Salad\") tuple verilmişdir. Əgər müştəri menyuda olmayan bir yemək sifariş edirsə, \"Bu yemək mövcud deyil\" mesajını çap edin. Əks halda, \"Sifarişiniz qəbul edildi\" mesajını çap edin."
   ]
  },
  {
   "cell_type": "code",
   "execution_count": 36,
   "id": "d31f1edb-02dc-4e5c-8afa-a4f677a1a360",
   "metadata": {},
   "outputs": [
    {
     "name": "stdout",
     "output_type": "stream",
     "text": [
      "Bu yemək mövcud deyil\n"
     ]
    }
   ],
   "source": [
    "menu = (\"Pizza\", \"Burger\", \"Salad\") \n",
    "if \"pasta\" not  in menu:\n",
    "    print(\"Bu yemək mövcud deyil\")\n",
    "else:\n",
    "    print(\"Sifarişiniz qəbul edildi\")"
   ]
  },
  {
   "cell_type": "code",
   "execution_count": 42,
   "id": "09b2e668-77e7-4c2d-8844-8c2f3faee04e",
   "metadata": {},
   "outputs": [
    {
     "name": "stdin",
     "output_type": "stream",
     "text": [
      "sifarisiniz: pizza\n"
     ]
    },
    {
     "name": "stdout",
     "output_type": "stream",
     "text": [
      "Bu yemək mövcud deyil\n"
     ]
    }
   ],
   "source": [
    "menu = (\"Pizza\", \"Burger\", \"Salad\") \n",
    "order=input(\"sifarisiniz:\")\n",
    "if order not in menu:\n",
    "     print(\"Bu yemək mövcud deyil\")\n",
    "else:\n",
    "    print(\"Sifarişiniz qəbul edildi\")"
   ]
  },
  {
   "cell_type": "markdown",
   "id": "572d5c93-b661-4285-a96d-e7d15aa4d22c",
   "metadata": {},
   "source": [
    "Burada pizzani kicik herflerle yazanda error verir. Men isteyirem herf sehvi olsa da neticeni duzgun qaytarsin. Onu nece ede bilerik? "
   ]
  },
  {
   "cell_type": "markdown",
   "id": "a3da6341-7b5f-44da-9bbd-4c76d4133161",
   "metadata": {},
   "source": [
    " # Tapşırıq 3: Ofis Cədvəli"
   ]
  },
  {
   "cell_type": "markdown",
   "id": "9ca96b6a-1cdc-45d0-91cb-8fc0c238d55c",
   "metadata": {},
   "source": [
    "schedule = [\"Monday\", \"Tuesday\", \"Wednesday\", \"Thursday\", \"Friday\"] verilmişdir. Əgər gün cədvəldə varsa və \"Friday\"dirsə, \"Həftənin sonu yaxınlaşır\" mesajını çap edin. Əgər gün \"Saturday\" və ya \"Sunday\"dirsə, \"Saturday\" və ya \"Sunday\" mesajını çap edin. Əks halda, \"Normal iş günü\" mesajını çap edin."
   ]
  },
  {
   "cell_type": "code",
   "execution_count": 49,
   "id": "73c52f9a-5b36-4bd2-b331-8d755c3df10c",
   "metadata": {},
   "outputs": [
    {
     "name": "stdin",
     "output_type": "stream",
     "text": [
      "Daxil edin: Saturday\n"
     ]
    },
    {
     "name": "stdout",
     "output_type": "stream",
     "text": [
      "\"Saturday\" və ya \"Sunday\"\n"
     ]
    }
   ],
   "source": [
    "schedule = [\"Monday\", \"Tuesday\", \"Wednesday\", \"Thursday\", \"Friday\"]\n",
    "today=input(\"Daxil edin:\")\n",
    "if today in schedule and today=='Friday' :\n",
    "    print(\"Həftənin sonu yaxınlaşır\" )\n",
    "elif today in (\"Saturday\" , \"Sunday\") :\n",
    "    print('\"Saturday\" və ya \"Sunday\"')\n",
    "else:\n",
    "    print(\"Normal iş günü\")\n",
    "    "
   ]
  },
  {
   "cell_type": "markdown",
   "id": "c986e9ff-4f07-44cd-b52a-a8e8a7465907",
   "metadata": {},
   "source": [
    "# Tapşırıq 4: İstifadəçi Girişi Doğrulaması\n"
   ]
  },
  {
   "cell_type": "markdown",
   "id": "3540095f-1692-43ea-a060-4f309fb1fb12",
   "metadata": {},
   "source": [
    "users = (\"admin\", \"manager\", \"user\") tuple verilmişdir. Əgər istifadəçi adı \"admin\"dirsə, \"Tam giriş\", \"manager\"dirsə, \"Məhdud giriş\", \"user\"dirsə, \"Minimal giriş\" mesajını çap edin. Əks halda, \"İstifadəçi mövcud deyil\" mesajını çap edin."
   ]
  },
  {
   "cell_type": "code",
   "execution_count": 58,
   "id": "a79196fb-bdbb-44d8-8e3e-e22f22f32512",
   "metadata": {},
   "outputs": [
    {
     "name": "stdin",
     "output_type": "stream",
     "text": [
      "istifadeci adini daxil edin: user\n"
     ]
    },
    {
     "name": "stdout",
     "output_type": "stream",
     "text": [
      "Minimal giriş\n"
     ]
    }
   ],
   "source": [
    "users = (\"admin\", \"manager\", \"user\")\n",
    "username=input('istifadeci adini daxil edin:')\n",
    "if username=='admin':\n",
    " print( \"Tam giriş\")\n",
    "elif username=='manager':\n",
    "        print(\"Məhdud giriş\")\n",
    "elif username=='user':\n",
    " print(\"Minimal giriş\")\n",
    "else:\n",
    " print(\"İstifadəçi mövcud deyil\")"
   ]
  },
  {
   "cell_type": "markdown",
   "id": "1368ae0d-f99d-40b2-b820-aa09f388b0ce",
   "metadata": {},
   "source": [
    "# Tapşırıq 5: Ehtiyac Analizi"
   ]
  },
  {
   "cell_type": "markdown",
   "id": "236e0ca7-67d3-4cb5-8d8f-566204af135a",
   "metadata": {},
   "source": [
    "items = [\"Milk\", \"Bread\", \"Eggs\", \"Butter\"] siyahısında bir mağazadan alınacaq məhsullar verilmişdir. Əgər siyahıda həm \"Milk\", həm də \"Bread\" varsa, \"Səhər yeməyi hazırdır\", əks halda \"Başqa nəsə alınmalıdır\" mesajını çap edin."
   ]
  },
  {
   "cell_type": "code",
   "execution_count": 61,
   "id": "67943e9c-10aa-4882-834a-b5126b1a055a",
   "metadata": {},
   "outputs": [
    {
     "name": "stdout",
     "output_type": "stream",
     "text": [
      "Səhər yeməyi hazırdır\n"
     ]
    }
   ],
   "source": [
    "items = [\"Milk\", \"Bread\", \"Eggs\", \"Butter\"]\n",
    "if 'Milk' and 'Bread' in items:\n",
    "    print(\"Səhər yeməyi hazırdır\")\n",
    "else:\n",
    "    print(\"Başqa nəsə alınmalıdır\")"
   ]
  },
  {
   "cell_type": "markdown",
   "id": "6c10e200-dc53-4c3d-a026-ac2e2eec0de3",
   "metadata": {},
   "source": [
    "# Tapşırıq 6: Satış Təhlili"
   ]
  },
  {
   "cell_type": "markdown",
   "id": "1db248d5-0668-448d-b9ad-d0dd638ba7f3",
   "metadata": {},
   "source": [
    "sales = [500, 600, 700, 400, 800] verilmişdir. Əgər satışın ən yüksək dəyəri 750-dən çoxdursa və ən aşağı dəyəri 450-dən azdırsa, \"Müxtəlif satış performansı\", əks halda, \"Sabit satış performansı\" mesajını çap edin.[ ]\r\n"
   ]
  },
  {
   "cell_type": "code",
   "execution_count": 64,
   "id": "1d0b2318-4484-46d2-beba-258082128d4b",
   "metadata": {},
   "outputs": [
    {
     "name": "stdout",
     "output_type": "stream",
     "text": [
      "Müxtəlif satış performansı\n"
     ]
    }
   ],
   "source": [
    "sales = [500, 600, 700, 400, 800]\n",
    "if max(sales)>750 and min(sales)<450:\n",
    "    print(\"Müxtəlif satış performansı\")\n",
    "else:\n",
    "    print(\"Sabit satış performansı\")"
   ]
  },
  {
   "cell_type": "code",
   "execution_count": null,
   "id": "3d87ee5e-17d4-4ef6-abcf-bbfeb8771ac1",
   "metadata": {},
   "outputs": [],
   "source": []
  }
 ],
 "metadata": {
  "kernelspec": {
   "display_name": "Python 3 (ipykernel)",
   "language": "python",
   "name": "python3"
  },
  "language_info": {
   "codemirror_mode": {
    "name": "ipython",
    "version": 3
   },
   "file_extension": ".py",
   "mimetype": "text/x-python",
   "name": "python",
   "nbconvert_exporter": "python",
   "pygments_lexer": "ipython3",
   "version": "3.12.4"
  }
 },
 "nbformat": 4,
 "nbformat_minor": 5
}
