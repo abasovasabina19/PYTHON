{
 "cells": [
  {
   "cell_type": "markdown",
   "id": "1f026940-1f70-4a54-838d-fea4d281c29e",
   "metadata": {},
   "source": [
    "# Tapşırıq 1: Mağaza Gəliri"
   ]
  },
  {
   "cell_type": "markdown",
   "id": "05830227-25d8-4e92-ac95-baca3cad38de",
   "metadata": {},
   "source": [
    "Bir mağazanın bir həftə boyunca gündəlik gəlirləri sales = [250, 300, 150, 400, 320, 280, 500] şəklində siyahıda verilmişdir. Həftənin sonunda ümumi gəliri və ortalama gəliri hesablayan bir for dövrü yazın."
   ]
  },
  {
   "cell_type": "code",
   "execution_count": 5,
   "id": "73617ab9-0512-4a59-b079-86c7e3fecfbb",
   "metadata": {},
   "outputs": [
    {
     "name": "stdout",
     "output_type": "stream",
     "text": [
      " umumi gelir:250 ve ortalama gelir:35.71\n",
      " umumi gelir:550 ve ortalama gelir:78.57\n",
      " umumi gelir:700 ve ortalama gelir:100.0\n",
      " umumi gelir:1100 ve ortalama gelir:157.14\n",
      " umumi gelir:1420 ve ortalama gelir:202.86\n",
      " umumi gelir:1700 ve ortalama gelir:242.86\n",
      " umumi gelir:2200 ve ortalama gelir:314.29\n"
     ]
    }
   ],
   "source": [
    "sales = [250, 300, 150, 400, 320, 280, 500]\n",
    "total=0\n",
    "for item in sales:\n",
    "    total=item+total\n",
    "    avg=total/len(sales)\n",
    "    print(F\" umumi gelir:{total} ve ortalama gelir:{round(avg,2)}\")"
   ]
  },
  {
   "cell_type": "markdown",
   "id": "8f23fe2a-b2e2-4a09-a40d-f32d591f2b37",
   "metadata": {},
   "source": [
    "# Tapşırıq 2: Şagirdlərin Yaş Statistikası"
   ]
  },
  {
   "cell_type": "markdown",
   "id": "c48fa702-8156-4b7e-bda7-d64806e661db",
   "metadata": {},
   "source": [
    "ages = [12, 15, 14, 16, 13, 12, 14, 16, 15, 13] siyahısında bir sinifdəki şagirdlərin yaşları verilmişdir. Hər yaşın neçə dəfə təkrarlanmasını müəyyən edən bir for dövrü yazın."
   ]
  },
  {
   "cell_type": "code",
   "execution_count": 71,
   "id": "f7e13ae3-e649-4b12-8131-6ab7d531fc4d",
   "metadata": {},
   "outputs": [
    {
     "name": "stdout",
     "output_type": "stream",
     "text": [
      " 12  2 dəfə təkrarlanır.\n",
      " 15  2 dəfə təkrarlanır.\n",
      " 14  2 dəfə təkrarlanır.\n",
      " 16  2 dəfə təkrarlanır.\n",
      " 13  2 dəfə təkrarlanır.\n"
     ]
    }
   ],
   "source": [
    "ages = [12, 15, 14, 16, 13, 12, 14, 16, 15, 13]\n",
    "age_count={}\n",
    "for item in ages :\n",
    "    if item in age_count:\n",
    "     age_count[item]+=1\n",
    "    else:\n",
    "     age_count[item]=1\n",
    "    \n",
    "for item , ljkjhkb in age_count.items():\n",
    "    print(f\" {item}  {count} dəfə təkrarlanır.\")\n"
   ]
  },
  {
   "cell_type": "markdown",
   "id": "d9dfda34-f2f4-4af8-9b7c-9e132960b5fc",
   "metadata": {},
   "source": [
    "/bu kod niye bezen isleyir bezen yox anlamiram deyisen adlarni ferqli verirem mence islemeli deyldi axi?"
   ]
  },
  {
   "cell_type": "code",
   "execution_count": 98,
   "id": "3b77a4f1-a1f7-462d-8605-d207e12585d5",
   "metadata": {},
   "outputs": [
    {
     "ename": "NameError",
     "evalue": "name 'zzzz' is not defined",
     "output_type": "error",
     "traceback": [
      "\u001b[1;31m---------------------------------------------------------------------------\u001b[0m",
      "\u001b[1;31mNameError\u001b[0m                                 Traceback (most recent call last)",
      "Cell \u001b[1;32mIn[98], line 10\u001b[0m\n\u001b[0;32m      7\u001b[0m      age_count[item]\u001b[38;5;241m=\u001b[39m\u001b[38;5;241m1\u001b[39m\n\u001b[0;32m      9\u001b[0m \u001b[38;5;28;01mfor\u001b[39;00m item , sksks \u001b[38;5;129;01min\u001b[39;00m age_count\u001b[38;5;241m.\u001b[39mitems():\n\u001b[1;32m---> 10\u001b[0m     \u001b[38;5;28mprint\u001b[39m(\u001b[38;5;124mf\u001b[39m\u001b[38;5;124m\"\u001b[39m\u001b[38;5;124m \u001b[39m\u001b[38;5;132;01m{\u001b[39;00mitem\u001b[38;5;132;01m}\u001b[39;00m\u001b[38;5;124m  \u001b[39m\u001b[38;5;132;01m{\u001b[39;00mzzzz\u001b[38;5;132;01m}\u001b[39;00m\u001b[38;5;124m dəfə təkrarlanır.\u001b[39m\u001b[38;5;124m\"\u001b[39m)\n",
      "\u001b[1;31mNameError\u001b[0m: name 'zzzz' is not defined"
     ]
    }
   ],
   "source": [
    "ages = [12, 15, 14, 16, 13, 12, 14, 16, 15, 13]\n",
    "age_count={}\n",
    "for item in ages :\n",
    "    if item in age_count:\n",
    "     age_count[item]+=1\n",
    "    else:\n",
    "     age_count[item]=1\n",
    "    \n",
    "for item , sksks in age_count.items():\n",
    "    print(f\" {item}  {zzzz} dəfə təkrarlanır.\")"
   ]
  },
  {
   "cell_type": "markdown",
   "id": "b84c68a1-3358-48b1-b44f-4440a32fe98b",
   "metadata": {},
   "source": [
    "//burda error aldm amma?"
   ]
  },
  {
   "cell_type": "markdown",
   "id": "4f3a0483-a2d4-421c-964b-2e85d9215630",
   "metadata": {},
   "source": [
    "# Tapşırıq 3: Anbar Nəzarəti"
   ]
  },
  {
   "cell_type": "markdown",
   "id": "726159ea-d9d1-42d7-9b87-c9c8f65306df",
   "metadata": {},
   "source": [
    "products = {\"apple\": 50, \"banana\": 30, \"orange\": 20, \"grape\": 10} verilmişdir. Əgər məhsulun miqdarı 25-dən azdırsa, \"Stok azdır\", əks halda \"Stok kifayətdir\" mesajını çap edən bir for dövrü yazın."
   ]
  },
  {
   "cell_type": "code",
   "execution_count": 8,
   "id": "576e0bd9-c180-44ba-a2fd-cf2622608480",
   "metadata": {},
   "outputs": [
    {
     "name": "stdout",
     "output_type": "stream",
     "text": [
      "Stok kifayətdir\n",
      "Stok kifayətdir\n",
      "Stok azdır\n",
      "Stok azdır\n"
     ]
    }
   ],
   "source": [
    "products = {\"apple\": 50, \"banana\": 30, \"orange\": 20, \"grape\": 10}\n",
    "for product, i in products.items():\n",
    "    if i<25:\n",
    "        print( \"Stok azdır\")\n",
    "    else:\n",
    "        print(\"Stok kifayətdir\" )"
   ]
  },
  {
   "cell_type": "markdown",
   "id": "5e1953cd-f4dc-4b71-9876-6a2008782958",
   "metadata": {},
   "source": [
    "# Tapşırıq 4: Kredit Borcu Hesablayıcı"
   ]
  },
  {
   "cell_type": "markdown",
   "id": "d8a22ab4-8155-4e70-a836-3ae4a428a0cd",
   "metadata": {},
   "source": [
    "Bir müştərinin bank kredit borcu debt = 1000 AZN və aylıq ödənişi payment = 200 AZN olaraq verilmişdir. Hər ay ödənildikdən sonra qalan borcu göstərən bir while dövrü yazın."
   ]
  },
  {
   "cell_type": "code",
   "execution_count": 46,
   "id": "e0780cb1-51bf-46b5-83f8-7ede8e34f956",
   "metadata": {},
   "outputs": [
    {
     "name": "stdout",
     "output_type": "stream",
     "text": [
      "1-ci ayın sonunda qalan borc: 800 AZN\n",
      "2-ci ayın sonunda qalan borc: 600 AZN\n",
      "3-ci ayın sonunda qalan borc: 400 AZN\n",
      "4-ci ayın sonunda qalan borc: 200 AZN\n",
      "5-ci ayın sonunda qalan borc: 0 AZN\n"
     ]
    }
   ],
   "source": [
    "debt = 1000  \n",
    "payment = 200 \n",
    "month = 1  \n",
    "while debt > 0:\n",
    "    debt -= payment  \n",
    "    print(f\"{month}-ci ayın sonunda qalan borc: {debt} AZN\")\n",
    "    month += 1\n"
   ]
  },
  {
   "cell_type": "markdown",
   "id": "1c617c37-0c7d-49f1-af02-3236ace90d36",
   "metadata": {},
   "source": [
    "# Tapşırıq 5: İdman Yarışı Təhlili"
   ]
  },
  {
   "cell_type": "markdown",
   "id": "063ff077-ca3c-4e8e-a416-adce4bf07b45",
   "metadata": {},
   "source": [
    "results = {\"John\": [12, 15, 11], \"Anna\": [14, 13, 15], \"Mike\": [11, 12, 10]} verilmişdir. Hər idmançının nəticələrinin ortalamasını taparaq ən yaxşı ortalama nəticəyə malik olan idmançının adını çap edən bir for dövrü yazın."
   ]
  },
  {
   "cell_type": "code",
   "execution_count": 53,
   "id": "488d76c1-1afe-47de-a833-a3430fe0e9f9",
   "metadata": {},
   "outputs": [
    {
     "name": "stdout",
     "output_type": "stream",
     "text": [
      "Ən yaxşı ortalama nəticəyə malik idmançı: Mike\n"
     ]
    }
   ],
   "source": [
    "\n",
    "results = {\"John\": [12, 15, 11], \"Anna\": [14, 13, 15], \"Mike\": [11, 12, 10]}\n",
    "\n",
    "name = \"\"\n",
    "best_avg = 0\n",
    "\n",
    "for i in results:\n",
    "    total = sum(results[i])  \n",
    "    count = len(results[i]) \n",
    "    avg = total / count \n",
    "    \n",
    "    if avg > best_avg:  \n",
    "        best_avg = avg\n",
    "        name = i\n",
    "\n",
    "print(f\"Ən yaxşı ortalama nəticəyə malik idmançı: {i}\")\n"
   ]
  },
  {
   "cell_type": "markdown",
   "id": "180bbb97-b44e-4e27-a041-ff063a89e4d7",
   "metadata": {},
   "source": [
    "# Tapşırıq 6: Xəstəxana İdarəetmə Sistemi"
   ]
  },
  {
   "cell_type": "markdown",
   "id": "fd717f78-4789-489c-9dcc-cc3c69c715d6",
   "metadata": {},
   "source": [
    "patients = [(\"Ali\", 30, \"High\"), (\"Leyla\", 45, \"Medium\"), (\"Rza\", 20, \"Low\"), (\"Nigar\", 50, \"High\")] verilmişdir. Hər xəstənin təcili müdaxilə edilməsinin lazım olub-olmadığını yoxlayan bir nested if ilə for dövrü yazın. \"High\" səviyyəsində olan xəstələrə təcili müdaxilə edilməlidir."
   ]
  },
  {
   "cell_type": "code",
   "execution_count": 77,
   "id": "4447cafa-61fa-4703-b5fc-4293900b5a9c",
   "metadata": {},
   "outputs": [
    {
     "name": "stdout",
     "output_type": "stream",
     "text": [
      "Ali Ölür.\n",
      "Leyla Hele vaxtina var.\n",
      "Rza Top kimidi.\n",
      "Nigar Ölür.\n"
     ]
    }
   ],
   "source": [
    "patients = [(\"Ali\", 30, \"High\"), (\"Leyla\", 45, \"Medium\"), (\"Rza\", 20, \"Low\"), (\"Nigar\", 50, \"High\")]\n",
    "\n",
    "for patient in patients:\n",
    "    name, age, severity = patient\n",
    "    if severity == \"High\":\n",
    "        print(f\"{name} Ölür.\")\n",
    "    elif severity == \"Medium\":\n",
    "            print(f\"{name} Hele vaxtina var.\")\n",
    "    else:\n",
    "               print(f\"{name} Top kimidi.\")\n"
   ]
  },
  {
   "cell_type": "markdown",
   "id": "4385a2b3-c925-4d9f-8746-feb57affe974",
   "metadata": {},
   "source": [
    "# Tapşırıq 7: Tələbə Müvəffəqiyyət Sistemi"
   ]
  },
  {
   "cell_type": "markdown",
   "id": "5ab0f2de-9e25-42cc-ae7f-d3ae21fd2db8",
   "metadata": {},
   "source": [
    "students = [(\"Ali\", [85, 90, 78]), (\"Sabina\", [88, 76, 95]), (\"Hasan\", [90, 92, 89])] verilmişdir. Hər bir tələbənin orta qiymətini hesablayaraq 85-dən yüksək nəticə göstərənləri \"Fərqlənmə diplomu qazandı\" mesajı ilə çap edən bir for dövrü yazın."
   ]
  },
  {
   "cell_type": "code",
   "execution_count": 87,
   "id": "9ad5f2f7-b391-43a5-baa0-960dfb9da6d1",
   "metadata": {},
   "outputs": [
    {
     "name": "stdout",
     "output_type": "stream",
     "text": [
      "Sabina Fərqlənmə diplomu qazandı\n",
      "Hasan Fərqlənmə diplomu qazandı\n"
     ]
    }
   ],
   "source": [
    "students = [(\"Ali\", [85, 90, 78]), (\"Sabina\", [88, 76, 95]), (\"Hasan\", [90, 92, 89])]\n",
    "for student in students:\n",
    "    name, grades = student \n",
    "    \n",
    "    avg=sum(grades)/len(grades)\n",
    "    if avg>85:\n",
    "        print(f\"{name} Fərqlənmə diplomu qazandı\")"
   ]
  },
  {
   "cell_type": "code",
   "execution_count": null,
   "id": "5613f84a-4c1b-44d0-be34-340a96fab1e9",
   "metadata": {},
   "outputs": [],
   "source": []
  }
 ],
 "metadata": {
  "kernelspec": {
   "display_name": "Python 3 (ipykernel)",
   "language": "python",
   "name": "python3"
  },
  "language_info": {
   "codemirror_mode": {
    "name": "ipython",
    "version": 3
   },
   "file_extension": ".py",
   "mimetype": "text/x-python",
   "name": "python",
   "nbconvert_exporter": "python",
   "pygments_lexer": "ipython3",
   "version": "3.12.4"
  }
 },
 "nbformat": 4,
 "nbformat_minor": 5
}
